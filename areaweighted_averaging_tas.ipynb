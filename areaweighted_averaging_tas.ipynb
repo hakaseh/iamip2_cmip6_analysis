{
 "cells": [
  {
   "cell_type": "code",
   "execution_count": 16,
   "metadata": {},
   "outputs": [],
   "source": [
    "import numpy as np\n",
    "import xarray as xr\n",
    "import glob"
   ]
  },
  {
   "cell_type": "code",
   "execution_count": 53,
   "metadata": {},
   "outputs": [],
   "source": [
    "ds_area = xr.open_dataset('/g/data/qv56/replicas/input4MIPs/CMIP6/OMIP/MRI/MRI-JRA55-do-1-5-0/atmos/fx/areacella/gr/v20200916/areacella_input4MIPs_atmosphericState_OMIP_MRI-JRA55-do-1-5-0_gr.nc')\n",
    "ds_mask = xr.open_dataset('/g/data/qv56/replicas/input4MIPs/CMIP6/OMIP/MRI/MRI-JRA55-do-1-5-0/atmos/fx/sftof/gr/v20200916/sftof_input4MIPs_atmosphericState_OMIP_MRI-JRA55-do-1-5-0_gr.nc')\n",
    "ds_axm = ds_area['areacella']*(ds_mask['sftof']/100)\n",
    "ds_axm = ds_axm.where(ds_axm>0,np.nan)"
   ]
  },
  {
   "cell_type": "code",
   "execution_count": 93,
   "metadata": {},
   "outputs": [],
   "source": [
    "cmip6 = [\n",
    "    'CMCC-CM2-SR5',\n",
    "    'CMCC-ESM2',\n",
    "    'MMM-CMIP6'\n",
    "]"
   ]
  },
  {
   "cell_type": "code",
   "execution_count": 55,
   "metadata": {},
   "outputs": [
    {
     "data": {
      "text/plain": [
       "25"
      ]
     },
     "execution_count": 55,
     "metadata": {},
     "output_type": "execute_result"
    }
   ],
   "source": [
    "cmip6 = [\n",
    "    'ACCESS-CM2', \n",
    "    'ACCESS-ESM1-5', \n",
    "    'AWI-CM-1-1-MR', \n",
    "    'BCC-CSM2-MR', \n",
    "    'CESM2-WACCM', \n",
    "    'CIESM',\n",
    "    'CMCC-CM2-SR5',\n",
    "    'CMCC-ESM2',\n",
    "    'CanESM5', \n",
    "    'EC-Earth3', \n",
    "    'EC-Earth3-Veg', \n",
    "    'FGOALS-f3-L', \n",
    "    'FGOALS-g3', 'FIO-ESM-2-0', 'GFDL-ESM4', 'INM-CM4-8', 'INM-CM5-0', \n",
    "    'IPSL-CM6A-LR', \n",
    "    'KACE-1-0-G', \n",
    "    'MIROC6', \n",
    "    'MPI-ESM1-2-HR', \n",
    "    'MPI-ESM1-2-LR', \n",
    "    'MRI-ESM2-0', \n",
    "    'NESM3', \n",
    "    'NorESM2-LM',\n",
    "    'NorESM2-MM',\n",
    "    'MMM-CMIP6'\n",
    "]\n",
    "np.size(cmip6)"
   ]
  },
  {
   "cell_type": "markdown",
   "metadata": {},
   "source": [
    "### spatial average over ocean grid cell only."
   ]
  },
  {
   "cell_type": "code",
   "execution_count": 94,
   "metadata": {},
   "outputs": [],
   "source": [
    "for it in range(np.size(cmip6)):\n",
    "    filename = glob.glob('cmip6_historical/r640x320/tas_Amon_'+cmip6[it]+'*.nc')[0]\n",
    "    ds = xr.open_dataset(filename).groupby('time.year').mean()\n",
    "    glo = (ds['tas']*ds_axm.values[np.newaxis,:,:]).sum(axis=(1,2),skipna=True)/ds_axm.sum(skipna=True)\n",
    "    n60 = (ds.sel(lat=slice(60,90))['tas']*ds_axm.sel(lat=slice(60,90)).values[np.newaxis,:,:]).sum(axis=(1,2),skipna=True)/ds_axm.sel(lat=slice(60,90)).sum(skipna=True)\n",
    "    s60 = (ds.sel(lat=slice(-90,-60))['tas']*ds_axm.sel(lat=slice(-90,-60)).values[np.newaxis,:,:]).sum(axis=(1,2),skipna=True)/ds_axm.sel(lat=slice(-90,-60)).sum(skipna=True)\n",
    "    ds_avg = xr.DataArray(glo,name='glo').to_dataset()\n",
    "    ds_avg['n60'] = n60\n",
    "    ds_avg['s60'] = s60\n",
    "    ds_avg.to_netcdf('cmip6_historical/r640x320/areaweighted_avg_tas_'+cmip6[it]+'_historical_1958-2014.nc')"
   ]
  },
  {
   "cell_type": "markdown",
   "metadata": {},
   "source": [
    "### do the same for the future."
   ]
  },
  {
   "cell_type": "code",
   "execution_count": 95,
   "metadata": {},
   "outputs": [],
   "source": [
    "for it in range(np.size(cmip6)):\n",
    "    filename = glob.glob('cmip6_ssp585/tas/r640x320/tas_Amon_'+cmip6[it]+'*.nc')[0]\n",
    "    ds = xr.open_dataset(filename).groupby('time.year').mean()\n",
    "    glo = (ds['tas']*ds_axm.values[np.newaxis,:,:]).sum(axis=(1,2),skipna=True)/ds_axm.sum(skipna=True)\n",
    "    n60 = (ds.sel(lat=slice(60,90))['tas']*ds_axm.sel(lat=slice(60,90)).values[np.newaxis,:,:]).sum(axis=(1,2),skipna=True)/ds_axm.sel(lat=slice(60,90)).sum(skipna=True)\n",
    "    s60 = (ds.sel(lat=slice(-90,-60))['tas']*ds_axm.sel(lat=slice(-90,-60)).values[np.newaxis,:,:]).sum(axis=(1,2),skipna=True)/ds_axm.sel(lat=slice(-90,-60)).sum(skipna=True)\n",
    "    ds_avg = xr.DataArray(glo,name='glo').to_dataset()\n",
    "    ds_avg['n60'] = n60\n",
    "    ds_avg['s60'] = s60\n",
    "    ds_avg.to_netcdf('cmip6_ssp585/tas/r640x320/areaweighted_avg_tas_'+cmip6[it]+'_ssp585_2015-2100.nc')"
   ]
  },
  {
   "cell_type": "markdown",
   "metadata": {},
   "source": [
    "### do the same for JRA55-do v1.4.0"
   ]
  },
  {
   "cell_type": "code",
   "execution_count": 92,
   "metadata": {},
   "outputs": [],
   "source": [
    "filename = 'jra55v1.4.0/tas/r640x320/tas_Amon_JRA55-do-1-4-0_gr_1958-2018.nc'\n",
    "ds = xr.open_dataset(filename).groupby('time.year').mean()\n",
    "glo = (ds['tas']*ds_axm.values[np.newaxis,:,:]).sum(axis=(1,2),skipna=True)/ds_axm.sum(skipna=True)\n",
    "n60 = (ds.sel(lat=slice(60,90))['tas']*ds_axm.sel(lat=slice(60,90)).values[np.newaxis,:,:]).sum(axis=(1,2),skipna=True)/ds_axm.sel(lat=slice(60,90)).sum(skipna=True)\n",
    "s60 = (ds.sel(lat=slice(-90,-60))['tas']*ds_axm.sel(lat=slice(-90,-60)).values[np.newaxis,:,:]).sum(axis=(1,2),skipna=True)/ds_axm.sel(lat=slice(-90,-60)).sum(skipna=True)\n",
    "ds_avg = xr.DataArray(glo,name='glo').to_dataset()\n",
    "ds_avg['n60'] = n60\n",
    "ds_avg['s60'] = s60\n",
    "ds_avg.to_netcdf('jra55v1.4.0/tas/r640x320/areaweighted_avg_tas_'+cmip6[it]+'_historical_1958-2014.nc')"
   ]
  },
  {
   "cell_type": "code",
   "execution_count": null,
   "metadata": {},
   "outputs": [],
   "source": []
  }
 ],
 "metadata": {
  "kernelspec": {
   "display_name": "Python [conda env:analysis3-21.01] *",
   "language": "python",
   "name": "conda-env-analysis3-21.01-py"
  },
  "language_info": {
   "codemirror_mode": {
    "name": "ipython",
    "version": 3
   },
   "file_extension": ".py",
   "mimetype": "text/x-python",
   "name": "python",
   "nbconvert_exporter": "python",
   "pygments_lexer": "ipython3",
   "version": "3.8.6"
  }
 },
 "nbformat": 4,
 "nbformat_minor": 4
}
